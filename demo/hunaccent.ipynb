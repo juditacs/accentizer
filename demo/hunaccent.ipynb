{
 "cells": [
  {
   "cell_type": "markdown",
   "metadata": {},
   "source": [
    "# Hunaccent: diacritic restoration for Hungarian\n",
    "\n",
    "This is the Python implementation of Hunaccent aimed for demonstration. Use the C++ implementation for performance."
   ]
  },
  {
   "cell_type": "code",
   "execution_count": null,
   "metadata": {
    "collapsed": true
   },
   "outputs": [],
   "source": [
    "from collections import deque\n",
    "from string import punctuation\n",
    "from os import listdir, path"
   ]
  },
  {
   "cell_type": "markdown",
   "metadata": {},
   "source": [
    "## Hunaccent class"
   ]
  },
  {
   "cell_type": "code",
   "execution_count": 8,
   "metadata": {
    "collapsed": false
   },
   "outputs": [],
   "source": [
    "class Hunaccent(object):\n",
    "    accents = {\n",
    "        'a': ['a', 'á'],\n",
    "        'e': ['e', 'é'],\n",
    "        'i': ['i', 'í'],\n",
    "        'o': ['o', 'ó', 'ö', 'ő'],\n",
    "        'u': ['u', 'ú', 'ü', 'ű'],\n",
    "    }\n",
    "    punct = set(punctuation)\n",
    "    def __init__(self, tree_dir='../tree'):\n",
    "        self.load_trees(tree_dir)\n",
    "        \n",
    "    def load_trees(self, tree_dir):\n",
    "        self.trees = {}\n",
    "        for fn in listdir(tree_dir):\n",
    "            self.trees[fn] = Tree(path.join(tree_dir, fn))\n",
    "        self.window = self.trees['a'].window\n",
    "\n",
    "    def accentize(self, text):\n",
    "        self.slidew = deque(' ' * (2*self.window+1))\n",
    "        outw = []\n",
    "        for ch in text + ' '*self.window:\n",
    "            nc = Hunaccent.normalize_char(ch)\n",
    "            if not nc:\n",
    "                continue\n",
    "            self.slidew.append(nc)\n",
    "            self.slidew.popleft()\n",
    "            c = self.slidew[self.window]\n",
    "            if c.lower() in self.trees:\n",
    "                if c.isupper():\n",
    "                    outw.append(self.accentize_char().upper())\n",
    "                else:\n",
    "                    outw.append(self.accentize_char())\n",
    "            else:\n",
    "                outw.append(c)\n",
    "        return ''.join(outw)[self.window:]\n",
    "    \n",
    "    def accentize_char(self):\n",
    "        label = self.trees[self.slidew[self.window]].classify(self.slidew)\n",
    "        return Hunaccent.accents[self.slidew[self.window]][label]\n",
    "                \n",
    "    @staticmethod\n",
    "    def normalize_char(char):\n",
    "        if char.isalpha():\n",
    "            return char.lower()\n",
    "        if char.isspace():\n",
    "            return ' '\n",
    "        if char.isdigit():\n",
    "            return '0'\n",
    "        if char in Hunaccent.punct:\n",
    "            return '_'\n",
    "        return '*'\n",
    "    \n",
    "    def print_node(self, char, node_id):\n",
    "        self.trees[char].nodes[node_id].print()\n",
    "        \n",
    "\n",
    "class Tree(object):\n",
    "    def __init__(self, fn):\n",
    "        self.load_from_file(fn)\n",
    "        \n",
    "    def load_from_file(self, fn):\n",
    "        with open(fn) as f:\n",
    "            self.read_meta_info(f.readline())            \n",
    "            self.nodes = []\n",
    "            for l in f:\n",
    "                self.nodes.append(self.read_node(l))\n",
    "                \n",
    "    def read_meta_info(self, stream):\n",
    "        meta = stream.split()\n",
    "        self.window = int(meta[1])\n",
    "        self.length = int(meta[0])\n",
    "\n",
    "    def read_node(self, line):\n",
    "        fd = line[2:].split()\n",
    "        ch = line[0]\n",
    "        pos = int(fd[0])\n",
    "        left = int(fd[1])\n",
    "        right = int(fd[2])\n",
    "        out = int(fd[3])\n",
    "        return Node(ch, pos, left, right, out, self.window, len(self.nodes))\n",
    "    \n",
    "    def classify(self, window):\n",
    "        index = 0\n",
    "        limit = 200\n",
    "        if draw_tree:\n",
    "            #print(window[0:self.window])\n",
    "            print('ACCENTIZING: [{0}[{1}]{2}]'.format(\n",
    "                    ''.join(window[i] for i in range(self.window)), \n",
    "                    window[self.window], \n",
    "                    ''.join(window[i] for i in range(self.window+1, 2*self.window+1))))\n",
    "        while not self.nodes[index].is_final:\n",
    "            if draw_tree:\n",
    "                self.nodes[index].print()\n",
    "            index = self.nodes[index].decide(window)\n",
    "            limit -= 1\n",
    "            if limit < 0:\n",
    "                return 0\n",
    "        if draw_tree:\n",
    "            self.nodes[index].print()\n",
    "        return self.nodes[index].label\n",
    "\n",
    "        \n",
    "class Node(object):\n",
    "    def __init__(self, char, pos, left, right, out, window, id_):\n",
    "        self.char = char\n",
    "        self.pos = pos\n",
    "        self.left = left\n",
    "        self.right = right\n",
    "        self.is_final = False if out == -1 else True\n",
    "        self.label = out\n",
    "        self.window = window\n",
    "        self.id_ = id_\n",
    "        \n",
    "    def print(self):\n",
    "        if not self.is_final:\n",
    "            print(' ({0}), {1: 2d}: [{2}], left: {3}, right: {4}'.format(\n",
    "                    self.id_, self.pos, self.char, self.left, self.right))\n",
    "        else:\n",
    "            print(' LEAF ({0}), {1: 2d}: [{2}], out: {3}'.format(\n",
    "                    self.id_, self.pos, self.char, self.label))\n",
    "            \n",
    "    def decide(self, w):\n",
    "        return self.right if w[self.window+self.pos] == self.char else self.left"
   ]
  },
  {
   "cell_type": "code",
   "execution_count": 26,
   "metadata": {
    "collapsed": true
   },
   "outputs": [],
   "source": [
    "h = Hunaccent()"
   ]
  },
  {
   "cell_type": "code",
   "execution_count": 27,
   "metadata": {
    "collapsed": false
   },
   "outputs": [
    {
     "data": {
      "text/plain": [
       "'árvíztűrő tükörfúrógép'"
      ]
     },
     "execution_count": 27,
     "metadata": {},
     "output_type": "execute_result"
    }
   ],
   "source": [
    "draw_tree = False\n",
    "h.accentize('arvizturo tukorfurogep')"
   ]
  },
  {
   "cell_type": "code",
   "execution_count": 31,
   "metadata": {
    "collapsed": false
   },
   "outputs": [
    {
     "data": {
      "text/plain": [
       "'ízékre gondoltam'"
      ]
     },
     "execution_count": 31,
     "metadata": {},
     "output_type": "execute_result"
    }
   ],
   "source": [
    "draw_tree = False\n",
    "h.accentize('izekre gondoltam')"
   ]
  },
  {
   "cell_type": "code",
   "execution_count": 24,
   "metadata": {
    "collapsed": false
   },
   "outputs": [
    {
     "name": "stdout",
     "output_type": "stream",
     "text": [
      " (24877), -2: [l], left: 24878, right: 24879\n"
     ]
    }
   ],
   "source": [
    "h.print_node('a', 24877)"
   ]
  }
 ],
 "metadata": {
  "kernelspec": {
   "display_name": "Python 3",
   "language": "python",
   "name": "python3"
  },
  "language_info": {
   "codemirror_mode": {
    "name": "ipython",
    "version": 3
   },
   "file_extension": ".py",
   "mimetype": "text/x-python",
   "name": "python",
   "nbconvert_exporter": "python",
   "pygments_lexer": "ipython3",
   "version": "3.5.1"
  }
 },
 "nbformat": 4,
 "nbformat_minor": 0
}
